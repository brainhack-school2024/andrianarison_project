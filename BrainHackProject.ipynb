{
 "cells": [
  {
   "cell_type": "markdown",
   "id": "393c6784-7b71-446e-bc75-a65b2afa19a4",
   "metadata": {},
   "source": [
    "# Predicting ADHD diagnosis using machine learning "
   ]
  },
  {
   "cell_type": "markdown",
   "id": "e170b9f2-7e4f-40ed-8870-53587cab6770",
   "metadata": {},
   "source": [
    "### Downloading and exploring dataset"
   ]
  },
  {
   "cell_type": "code",
   "execution_count": 30,
   "id": "8d072c4b-973f-4b61-8016-f5b84c079b9d",
   "metadata": {},
   "outputs": [],
   "source": [
    "import os\n",
    "import pandas\n",
    "import numpy as np\n",
    "import matplotlib.pyplot as plt\n",
    "import seaborn as sns\n",
    "\n",
    "%matplotlib inline"
   ]
  },
  {
   "cell_type": "code",
   "execution_count": 1,
   "id": "e8eb06b6-da30-4e81-ad20-607ca5833a8a",
   "metadata": {},
   "outputs": [],
   "source": [
    "#import data\n",
    "from nilearn import datasets\n",
    "data = datasets.fetch_adhd()"
   ]
  },
  {
   "cell_type": "code",
   "execution_count": 2,
   "id": "90b2fcbc-4f85-41a8-af38-9a0d585f63ff",
   "metadata": {},
   "outputs": [
    {
     "data": {
      "text/plain": [
       "dict_keys(['func', 'confounds', 'phenotypic', 'description'])"
      ]
     },
     "execution_count": 2,
     "metadata": {},
     "output_type": "execute_result"
    }
   ],
   "source": [
    "data.keys()"
   ]
  },
  {
   "cell_type": "code",
   "execution_count": 21,
   "id": "30e189fb-8978-4f64-8b23-379a391fad6d",
   "metadata": {},
   "outputs": [
    {
     "data": {
      "text/plain": [
       "\".. _adhd_dataset:\\n\\nADHD dataset\\n============\\n\\nAccess\\n------\\nSee :func:`nilearn.datasets.fetch_adhd`.\\n\\nNotes\\n-----\\nPart of the 1000 Functional Connectome Project. Phenotypic\\ninformation includes: diagnostic status, dimensional ADHD symptom measures,\\nage, sex, intelligence quotient (IQ) and lifetime medication status.\\nPreliminary quality control assessments (usable vs. questionable) based upon\\nvisual timeseries inspection are included for all :term:`resting-state` :term:`fMRI` scans.\\n\\nIncludes preprocessed data from 40 participants.\\n\\nProject was coordinated by Michael P. Milham.\\n\\nSee :footcite:t:`ADHDdataset`.\\n\\nContent\\n-------\\n    :'func': Nifti images of the :term:`resting-state` data\\n    :'phenotypic': Explanations of preprocessing steps\\n    :'confounds': CSV files containing the nuisance variables\\n\\nReferences\\n----------\\n\\n.. footbibliography::\\n\\nFor more information about this dataset's structure:\\nhttp://fcon_1000.projects.nitrc.org/indi/adhd200/index.html\\n\\nLicense\\n-------\\nusage is unrestricted for non-commercial research purposes.\\n\""
      ]
     },
     "execution_count": 21,
     "metadata": {},
     "output_type": "execute_result"
    }
   ],
   "source": [
    "data.description"
   ]
  },
  {
   "cell_type": "code",
   "execution_count": 31,
   "id": "5f7cfee2-9a7a-4ad3-a1b2-d7671860ca1f",
   "metadata": {},
   "outputs": [],
   "source": [
    "#downloading phenotypic file \n",
    "pheno_file = ('/Users/andrianarisoniangola/Downloads/allSubs_testSet_phenotypic_dx.csv')\n",
    "\n",
    "pheno = pandas.read_csv(pheno_file)"
   ]
  },
  {
   "cell_type": "code",
   "execution_count": 26,
   "id": "0e0002c1-d12e-4af7-9e55-7269d1877a03",
   "metadata": {},
   "outputs": [
    {
     "name": "stdout",
     "output_type": "stream",
     "text": [
      "Index(['Disclaimer', 'ID', 'Site', 'Gender', 'Age', 'Handedness', 'DX',\n",
      "       'Secondary Dx ', 'ADHD Measure', 'ADHD Index', 'Inattentive',\n",
      "       'Hyper/Impulsive', 'Med Status', 'IQ Measure', 'Verbal IQ',\n",
      "       'Performance IQ', 'Full2 IQ', 'Full4 IQ', 'QC_Rest_1', 'QC_Rest_2',\n",
      "       'QC_Rest_3', 'QC_Rest_4', 'QC_Anatomical_1', 'QC_Anatomical_2'],\n",
      "      dtype='object')\n"
     ]
    }
   ],
   "source": [
    "print(pheno.columns)"
   ]
  },
  {
   "cell_type": "code",
   "execution_count": 27,
   "id": "b68e721b-0304-474d-af8d-1cce4d809e18",
   "metadata": {},
   "outputs": [
    {
     "data": {
      "text/html": [
       "<div>\n",
       "<style scoped>\n",
       "    .dataframe tbody tr th:only-of-type {\n",
       "        vertical-align: middle;\n",
       "    }\n",
       "\n",
       "    .dataframe tbody tr th {\n",
       "        vertical-align: top;\n",
       "    }\n",
       "\n",
       "    .dataframe thead th {\n",
       "        text-align: right;\n",
       "    }\n",
       "</style>\n",
       "<table border=\"1\" class=\"dataframe\">\n",
       "  <thead>\n",
       "    <tr style=\"text-align: right;\">\n",
       "      <th></th>\n",
       "      <th>Disclaimer</th>\n",
       "      <th>ID</th>\n",
       "      <th>Site</th>\n",
       "      <th>Gender</th>\n",
       "      <th>Age</th>\n",
       "      <th>Handedness</th>\n",
       "      <th>DX</th>\n",
       "      <th>Secondary Dx</th>\n",
       "      <th>ADHD Measure</th>\n",
       "      <th>ADHD Index</th>\n",
       "      <th>...</th>\n",
       "      <th>Verbal IQ</th>\n",
       "      <th>Performance IQ</th>\n",
       "      <th>Full2 IQ</th>\n",
       "      <th>Full4 IQ</th>\n",
       "      <th>QC_Rest_1</th>\n",
       "      <th>QC_Rest_2</th>\n",
       "      <th>QC_Rest_3</th>\n",
       "      <th>QC_Rest_4</th>\n",
       "      <th>QC_Anatomical_1</th>\n",
       "      <th>QC_Anatomical_2</th>\n",
       "    </tr>\n",
       "  </thead>\n",
       "  <tbody>\n",
       "    <tr>\n",
       "      <th>0</th>\n",
       "      <td>NaN</td>\n",
       "      <td>1038415</td>\n",
       "      <td>1</td>\n",
       "      <td>1</td>\n",
       "      <td>14.92</td>\n",
       "      <td>1</td>\n",
       "      <td>3</td>\n",
       "      <td>ODD</td>\n",
       "      <td>1</td>\n",
       "      <td>52</td>\n",
       "      <td>...</td>\n",
       "      <td>109.0</td>\n",
       "      <td>103.0</td>\n",
       "      <td>-999.0</td>\n",
       "      <td>107.0</td>\n",
       "      <td>1</td>\n",
       "      <td>NaN</td>\n",
       "      <td>NaN</td>\n",
       "      <td>NaN</td>\n",
       "      <td>1</td>\n",
       "      <td>NaN</td>\n",
       "    </tr>\n",
       "    <tr>\n",
       "      <th>1</th>\n",
       "      <td>NaN</td>\n",
       "      <td>1201251</td>\n",
       "      <td>1</td>\n",
       "      <td>1</td>\n",
       "      <td>12.33</td>\n",
       "      <td>1</td>\n",
       "      <td>3</td>\n",
       "      <td>NaN</td>\n",
       "      <td>1</td>\n",
       "      <td>49</td>\n",
       "      <td>...</td>\n",
       "      <td>115.0</td>\n",
       "      <td>103.0</td>\n",
       "      <td>-999.0</td>\n",
       "      <td>110.0</td>\n",
       "      <td>1</td>\n",
       "      <td>NaN</td>\n",
       "      <td>NaN</td>\n",
       "      <td>NaN</td>\n",
       "      <td>1</td>\n",
       "      <td>NaN</td>\n",
       "    </tr>\n",
       "    <tr>\n",
       "      <th>2</th>\n",
       "      <td>NaN</td>\n",
       "      <td>1245758</td>\n",
       "      <td>1</td>\n",
       "      <td>0</td>\n",
       "      <td>8.58</td>\n",
       "      <td>1</td>\n",
       "      <td>0</td>\n",
       "      <td>NaN</td>\n",
       "      <td>1</td>\n",
       "      <td>35</td>\n",
       "      <td>...</td>\n",
       "      <td>121.0</td>\n",
       "      <td>88.0</td>\n",
       "      <td>-999.0</td>\n",
       "      <td>106.0</td>\n",
       "      <td>1</td>\n",
       "      <td>NaN</td>\n",
       "      <td>NaN</td>\n",
       "      <td>NaN</td>\n",
       "      <td>1</td>\n",
       "      <td>NaN</td>\n",
       "    </tr>\n",
       "    <tr>\n",
       "      <th>3</th>\n",
       "      <td>NaN</td>\n",
       "      <td>1253411</td>\n",
       "      <td>1</td>\n",
       "      <td>1</td>\n",
       "      <td>8.08</td>\n",
       "      <td>1</td>\n",
       "      <td>0</td>\n",
       "      <td>NaN</td>\n",
       "      <td>1</td>\n",
       "      <td>35</td>\n",
       "      <td>...</td>\n",
       "      <td>119.0</td>\n",
       "      <td>106.0</td>\n",
       "      <td>-999.0</td>\n",
       "      <td>114.0</td>\n",
       "      <td>1</td>\n",
       "      <td>NaN</td>\n",
       "      <td>NaN</td>\n",
       "      <td>NaN</td>\n",
       "      <td>1</td>\n",
       "      <td>NaN</td>\n",
       "    </tr>\n",
       "    <tr>\n",
       "      <th>4</th>\n",
       "      <td>NaN</td>\n",
       "      <td>1419103</td>\n",
       "      <td>1</td>\n",
       "      <td>0</td>\n",
       "      <td>9.92</td>\n",
       "      <td>1</td>\n",
       "      <td>0</td>\n",
       "      <td>NaN</td>\n",
       "      <td>1</td>\n",
       "      <td>41</td>\n",
       "      <td>...</td>\n",
       "      <td>124.0</td>\n",
       "      <td>76.0</td>\n",
       "      <td>-999.0</td>\n",
       "      <td>102.0</td>\n",
       "      <td>1</td>\n",
       "      <td>NaN</td>\n",
       "      <td>NaN</td>\n",
       "      <td>NaN</td>\n",
       "      <td>1</td>\n",
       "      <td>NaN</td>\n",
       "    </tr>\n",
       "  </tbody>\n",
       "</table>\n",
       "<p>5 rows × 24 columns</p>\n",
       "</div>"
      ],
      "text/plain": [
       "  Disclaimer       ID  Site  Gender    Age Handedness DX Secondary Dx   \\\n",
       "0        NaN  1038415     1       1  14.92          1  3           ODD   \n",
       "1        NaN  1201251     1       1  12.33          1  3           NaN   \n",
       "2        NaN  1245758     1       0   8.58          1  0           NaN   \n",
       "3        NaN  1253411     1       1   8.08          1  0           NaN   \n",
       "4        NaN  1419103     1       0   9.92          1  0           NaN   \n",
       "\n",
       "  ADHD Measure ADHD Index  ... Verbal IQ Performance IQ Full2 IQ  Full4 IQ  \\\n",
       "0            1         52  ...     109.0          103.0   -999.0     107.0   \n",
       "1            1         49  ...     115.0          103.0   -999.0     110.0   \n",
       "2            1         35  ...     121.0           88.0   -999.0     106.0   \n",
       "3            1         35  ...     119.0          106.0   -999.0     114.0   \n",
       "4            1         41  ...     124.0           76.0   -999.0     102.0   \n",
       "\n",
       "   QC_Rest_1  QC_Rest_2  QC_Rest_3  QC_Rest_4  QC_Anatomical_1  \\\n",
       "0          1        NaN        NaN        NaN                1   \n",
       "1          1        NaN        NaN        NaN                1   \n",
       "2          1        NaN        NaN        NaN                1   \n",
       "3          1        NaN        NaN        NaN                1   \n",
       "4          1        NaN        NaN        NaN                1   \n",
       "\n",
       "   QC_Anatomical_2  \n",
       "0              NaN  \n",
       "1              NaN  \n",
       "2              NaN  \n",
       "3              NaN  \n",
       "4              NaN  \n",
       "\n",
       "[5 rows x 24 columns]"
      ]
     },
     "execution_count": 27,
     "metadata": {},
     "output_type": "execute_result"
    }
   ],
   "source": [
    "pheno.head()"
   ]
  },
  {
   "cell_type": "code",
   "execution_count": 28,
   "id": "20935c98-b2b6-4db5-ab97-3814301beea2",
   "metadata": {},
   "outputs": [
    {
     "name": "stdout",
     "output_type": "stream",
     "text": [
      "count    197.000000\n",
      "mean      12.214670\n",
      "std        3.769128\n",
      "min        7.260000\n",
      "25%        9.320000\n",
      "50%       11.280000\n",
      "75%       14.530000\n",
      "max       26.310000\n",
      "Name: Age, dtype: float64\n"
     ]
    }
   ],
   "source": [
    "print(pheno['Age'].describe())"
   ]
  },
  {
   "cell_type": "code",
   "execution_count": 33,
   "id": "604a3e62-5972-4f71-8859-8a8f818176ab",
   "metadata": {},
   "outputs": [
    {
     "data": {
      "text/plain": [
       "<Axes: xlabel='Age', ylabel='Count'>"
      ]
     },
     "execution_count": 33,
     "metadata": {},
     "output_type": "execute_result"
    },
    {
     "data": {
      "image/png": "[encoded data removed]",
      "text/plain": [
       "<Figure size 640x480 with 1 Axes>"
      ]
     },
     "metadata": {},
     "output_type": "display_data"
    }
   ],
   "source": [
    "sns.histplot(pheno['Age'],\n",
    "            #bins=30,          # increase \"resolution\"\n",
    "            #color='black',    # change color\n",
    "            #kde=False,        # get rid of KDE (y axis=N)\n",
    "            #rug=True,         # add \"rug\"\n",
    "            )"
   ]
  },
  {
   "cell_type": "code",
   "execution_count": 34,
   "id": "6b69f70e-079c-44e8-83f9-41a16f97ecad",
   "metadata": {},
   "outputs": [
    {
     "name": "stdout",
     "output_type": "stream",
     "text": [
      "count    171.000000\n",
      "mean       2.672515\n",
      "std        1.110540\n",
      "min        1.000000\n",
      "25%        2.000000\n",
      "50%        2.000000\n",
      "75%        3.000000\n",
      "max        5.000000\n",
      "Name: IQ Measure, dtype: float64\n"
     ]
    }
   ],
   "source": [
    "print(pheno['IQ Measure'].describe())"
   ]
  },
  {
   "cell_type": "code",
   "execution_count": 35,
   "id": "4eff37f3-58a9-4826-9539-c036976b7791",
   "metadata": {},
   "outputs": [
    {
     "data": {
      "text/plain": [
       "<Axes: xlabel='IQ Measure', ylabel='Count'>"
      ]
     },
     "execution_count": 35,
     "metadata": {},
     "output_type": "execute_result"
    },
    {
     "data": {
      "image/png": "[encoded data removed]",
      "text/plain": [
       "<Figure size 640x480 with 1 Axes>"
      ]
     },
     "metadata": {},
     "output_type": "display_data"
    }
   ],
   "source": [
    "sns.histplot(pheno['IQ Measure'],\n",
    "            #bins=30,          # increase \"resolution\"\n",
    "            #color='black',    # change color\n",
    "            #kde=False,        # get rid of KDE (y axis=N)\n",
    "            #rug=True,         # add \"rug\"\n",
    "            )"
   ]
  },
  {
   "cell_type": "code",
   "execution_count": null,
   "id": "cf7d5928-104e-4427-8847-e1d575a93378",
   "metadata": {},
   "outputs": [],
   "source": []
  }
 ],
 "metadata": {
  "kernelspec": {
   "display_name": "Python 3 (ipykernel)",
   "language": "python",
   "name": "python3"
  },
  "language_info": {
   "codemirror_mode": {
    "name": "ipython",
    "version": 3
   },
   "file_extension": ".py",
   "mimetype": "text/x-python",
   "name": "python",
   "nbconvert_exporter": "python",
   "pygments_lexer": "ipython3",
   "version": "3.12.3"
  }
 },
 "nbformat": 4,
 "nbformat_minor": 5
}
